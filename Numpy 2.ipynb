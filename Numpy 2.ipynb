{
 "cells": [
  {
   "cell_type": "code",
   "execution_count": 2,
   "id": "7eb459a8",
   "metadata": {},
   "outputs": [],
   "source": [
    "import numpy as np"
   ]
  },
  {
   "cell_type": "code",
   "execution_count": 2,
   "id": "0103009f",
   "metadata": {},
   "outputs": [
    {
     "name": "stdout",
     "output_type": "stream",
     "text": [
      "5\n",
      "6\n",
      "<class 'int'> <class 'int'>\n"
     ]
    }
   ],
   "source": [
    "a=5\n",
    "print(5)\n",
    "b=6\n",
    "print(b)\n",
    "print(type(a),type(b))"
   ]
  },
  {
   "cell_type": "code",
   "execution_count": 18,
   "id": "5df61aa5",
   "metadata": {},
   "outputs": [
    {
     "name": "stdout",
     "output_type": "stream",
     "text": [
      "[1 2 3]\n",
      "<class 'numpy.ndarray'>\n",
      "[1 2 3]\n",
      "int32\n"
     ]
    }
   ],
   "source": [
    "a=np.array((1,2,3))\n",
    "print(a)\n",
    "print(type(a))\n",
    "b=np.array([1,2,3])\n",
    "print(b)\n",
    "print(b.dtype)"
   ]
  },
  {
   "cell_type": "code",
   "execution_count": 17,
   "id": "88648be1",
   "metadata": {},
   "outputs": [
    {
     "name": "stdout",
     "output_type": "stream",
     "text": [
      "[1.  1.  2.5 5.7]\n",
      "float64\n"
     ]
    }
   ],
   "source": [
    "a=np.array([1,1.0,2.5,5.7])\n",
    "print(a)\n",
    "print(a.dtype)\n",
    "#In this case, dtype=np.int32 is used to specify that the array should have a data type of 32-bit integers.\n"
   ]
  },
  {
   "cell_type": "markdown",
   "id": "518d8045",
   "metadata": {},
   "source": [
    "NumPy follows a type hierarchy when determining the data type of an array. In this hierarchy, floating-point numbers have a higher precedence than integers. Therefore, when you mix integers and floating-point values in an array, the resulting data type will typically be a floating-point type to preserve the decimal places."
   ]
  },
  {
   "cell_type": "code",
   "execution_count": 16,
   "id": "d5f286f3",
   "metadata": {},
   "outputs": [
    {
     "name": "stdout",
     "output_type": "stream",
     "text": [
      "['a' 'g' '4' '4.5' '3']\n",
      "<U32\n"
     ]
    }
   ],
   "source": [
    "a=np.array(['a','g',4,4.5,3])\n",
    "print(a)\n",
    "print(a.dtype)#U for unicode"
   ]
  },
  {
   "cell_type": "code",
   "execution_count": 95,
   "id": "837dfab6",
   "metadata": {},
   "outputs": [
    {
     "name": "stdout",
     "output_type": "stream",
     "text": [
      "[10 13 16 19 22 25 28 31 34 37 40 43 46 49]\n",
      "<class 'numpy.ndarray'>\n",
      "1\n"
     ]
    }
   ],
   "source": [
    "a=np.arange(10,50,3)\n",
    "print(a)\n",
    "print(type(a))\n",
    "print(a.ndim)"
   ]
  },
  {
   "cell_type": "code",
   "execution_count": 97,
   "id": "5a3626a1",
   "metadata": {},
   "outputs": [
    {
     "name": "stdout",
     "output_type": "stream",
     "text": [
      "46\n",
      "25\n",
      "[16 22 28]\n",
      "[46 37 28]\n"
     ]
    }
   ],
   "source": [
    "#indexing\n",
    "print(a[-2])\n",
    "print(a[5])\n",
    "#slicing\n",
    "print(a[2:8:2])\n",
    "print(a[12:4:-3])"
   ]
  },
  {
   "cell_type": "code",
   "execution_count": 38,
   "id": "d4ce0bc5",
   "metadata": {},
   "outputs": [
    {
     "name": "stdout",
     "output_type": "stream",
     "text": [
      "413\n",
      "14\n",
      "1\n"
     ]
    }
   ],
   "source": [
    "print(sum(a))\n",
    "print(len(a))\n",
    "print(a.ndim)"
   ]
  },
  {
   "cell_type": "code",
   "execution_count": 4,
   "id": "d60431dd",
   "metadata": {},
   "outputs": [
    {
     "name": "stdout",
     "output_type": "stream",
     "text": [
      "[[1 2 3]\n",
      " [4 5 6]\n",
      " [7 8 9]\n",
      " [3 6 9]]\n",
      "<class 'numpy.ndarray'>\n",
      "2\n"
     ]
    }
   ],
   "source": [
    "#2D\n",
    "ar=np.array([[1,2,3],[4,5,6],[7,8,9],[3,6,9]])\n",
    "print(ar)\n",
    "print(type(ar))\n",
    "print(ar.ndim)"
   ]
  },
  {
   "cell_type": "code",
   "execution_count": 56,
   "id": "f25f1e6a",
   "metadata": {},
   "outputs": [
    {
     "name": "stdout",
     "output_type": "stream",
     "text": [
      "7\n",
      "6\n"
     ]
    }
   ],
   "source": [
    "#indexing\n",
    "print(ar[2][0])\n",
    "print(ar[3,1])"
   ]
  },
  {
   "cell_type": "code",
   "execution_count": 51,
   "id": "b58d1a88",
   "metadata": {},
   "outputs": [
    {
     "name": "stdout",
     "output_type": "stream",
     "text": [
      "[[1 2 3]\n",
      " [4 5 6]\n",
      " [7 8 9]\n",
      " [3 6 9]]\n",
      "[[1 2]\n",
      " [4 5]]\n",
      "[[9 6 3]\n",
      " [9 8 7]\n",
      " [6 5 4]\n",
      " [3 2 1]]\n",
      "[[3 6 9]\n",
      " [7 8 9]\n",
      " [4 5 6]\n",
      " [1 2 3]]\n"
     ]
    }
   ],
   "source": [
    "print(ar)\n",
    "r1=ar[:2,:2]\n",
    "print(r1)\n",
    "r2=ar[::-1,::-1]\n",
    "print(r2)\n",
    "r3=ar[::-1,:3]\n",
    "print(r3)"
   ]
  },
  {
   "cell_type": "code",
   "execution_count": 54,
   "id": "3c252ee8",
   "metadata": {},
   "outputs": [
    {
     "name": "stdout",
     "output_type": "stream",
     "text": [
      "[1 4 7 3]\n",
      "[1 2 3]\n",
      "[1 5 9 9]\n"
     ]
    }
   ],
   "source": [
    "print(ar[:,0])\n",
    "print(ar[0,:])\n",
    "print(ar[(0,1,2,3),(0,1,2,2)])#bind row X col"
   ]
  },
  {
   "cell_type": "code",
   "execution_count": 64,
   "id": "b26afe93",
   "metadata": {},
   "outputs": [
    {
     "name": "stdout",
     "output_type": "stream",
     "text": [
      "[[1 2 3]\n",
      " [4 5 6]\n",
      " [7 8 9]\n",
      " [3 6 9]]\n",
      "int32\n",
      "4\n",
      "12\n",
      "48\n",
      "(4, 3)\n"
     ]
    }
   ],
   "source": [
    "print(ar)\n",
    "#print(len(ar))\n",
    "print(ar.dtype)\n",
    "print(ar.itemsize)\n",
    "print(ar.size)\n",
    "print(ar.nbytes)\n",
    "print(ar.shape)"
   ]
  },
  {
   "cell_type": "code",
   "execution_count": 68,
   "id": "66de3468",
   "metadata": {},
   "outputs": [
    {
     "name": "stdout",
     "output_type": "stream",
     "text": [
      "[1 2 3]\n",
      "3\n",
      "int32\n",
      "4\n",
      "3\n",
      "12\n",
      "(3,)\n"
     ]
    }
   ],
   "source": [
    "ar=np.array([1,2,3])\n",
    "print(ar)\n",
    "print(len(ar))\n",
    "print(ar.dtype)\n",
    "print(ar.itemsize)\n",
    "print(ar.size)\n",
    "print(ar.nbytes)\n",
    "print(ar.shape)"
   ]
  },
  {
   "cell_type": "code",
   "execution_count": 88,
   "id": "4ec2b9a9",
   "metadata": {},
   "outputs": [
    {
     "name": "stdout",
     "output_type": "stream",
     "text": [
      "[[0 0 0]\n",
      " [0 0 0]]\n",
      "int16\n",
      "2\n",
      "12\n"
     ]
    }
   ],
   "source": [
    "#creating an array of zeros\n",
    "a=np.zeros((2,3),dtype='int16')\n",
    "print(a)\n",
    "print(a.dtype)\n",
    "print(a.itemsize)\n",
    "print(a.nbytes)"
   ]
  },
  {
   "cell_type": "code",
   "execution_count": 9,
   "id": "5fb34cd2",
   "metadata": {},
   "outputs": [
    {
     "name": "stdout",
     "output_type": "stream",
     "text": [
      "[[1. 1. 1. 1.]\n",
      " [1. 1. 1. 1.]\n",
      " [1. 1. 1. 1.]]\n",
      "float64\n",
      "8\n"
     ]
    }
   ],
   "source": [
    "#creating an array of ones\n",
    "a=np.ones((3,4))\n",
    "print(a)\n",
    "print(a.dtype)\n",
    "print(a.itemsize)"
   ]
  },
  {
   "cell_type": "code",
   "execution_count": 10,
   "id": "43fe21b6",
   "metadata": {},
   "outputs": [
    {
     "name": "stdout",
     "output_type": "stream",
     "text": [
      "['a' 'b']\n",
      "<U1\n",
      "4\n"
     ]
    }
   ],
   "source": [
    "a=np.array([\"a\",\"b\"])\n",
    "print(a)\n",
    "print(a.dtype)\n",
    "print(a.itemsize)"
   ]
  },
  {
   "cell_type": "code",
   "execution_count": 11,
   "id": "63330c4c",
   "metadata": {},
   "outputs": [
    {
     "name": "stdout",
     "output_type": "stream",
     "text": [
      "[[5 5 5]\n",
      " [5 5 5]\n",
      " [5 5 5]]\n",
      "<class 'numpy.ndarray'>\n"
     ]
    }
   ],
   "source": [
    "#creating an array having all the elemets same\n",
    "a=np.full((3,3),5)\n",
    "print(a)\n",
    "print(type(a))"
   ]
  },
  {
   "cell_type": "code",
   "execution_count": 12,
   "id": "1a89eb87",
   "metadata": {},
   "outputs": [
    {
     "name": "stdout",
     "output_type": "stream",
     "text": [
      "[[nan nan]\n",
      " [nan nan]\n",
      " [nan nan]]\n"
     ]
    }
   ],
   "source": [
    "#creating a matrix of nan\n",
    "b=np.full((3,2),np.nan)\n",
    "print(b)"
   ]
  },
  {
   "cell_type": "code",
   "execution_count": 13,
   "id": "ab08266d",
   "metadata": {},
   "outputs": [
    {
     "name": "stdout",
     "output_type": "stream",
     "text": [
      "[[1 0 0 0]\n",
      " [0 2 0 0]\n",
      " [0 0 3 0]\n",
      " [0 0 0 4]]\n"
     ]
    }
   ],
   "source": [
    "a=np.diag([1,2,3,4])#creating a diagonal matrix\n",
    "print(a)"
   ]
  },
  {
   "cell_type": "code",
   "execution_count": 5,
   "id": "560675e1",
   "metadata": {},
   "outputs": [
    {
     "name": "stdout",
     "output_type": "stream",
     "text": [
      "[[1 0 0 0]\n",
      " [0 1 0 0]\n",
      " [0 0 1 0]]\n",
      "[[1. 0. 0.]\n",
      " [0. 1. 0.]\n",
      " [0. 0. 1.]]\n",
      "[[1 0 0]\n",
      " [0 1 0]\n",
      " [0 0 1]]\n"
     ]
    }
   ],
   "source": [
    "#changing type of elements in an array\n",
    "a=np.eye(3,4,dtype='int16')#creating an identity matrix\n",
    "b=np.eye(3)\n",
    "c=b.astype(int)\n",
    "print(a)\n",
    "print(b)\n",
    "print(c)"
   ]
  },
  {
   "cell_type": "code",
   "execution_count": 6,
   "id": "5de5a99e",
   "metadata": {},
   "outputs": [
    {
     "name": "stdout",
     "output_type": "stream",
     "text": [
      "[ 1  2  3  4  5  6  7  8  9 10 11 12 13 14 15]\n",
      "1\n",
      "60\n",
      "int32\n",
      "4\n",
      "15\n",
      "(15,)\n"
     ]
    }
   ],
   "source": [
    "a=np.arange(1,16)\n",
    "print(a)\n",
    "print(a.ndim)\n",
    "print(a.nbytes)\n",
    "print(a.dtype)\n",
    "print(a.itemsize)\n",
    "print(a.size)\n",
    "print(a.shape)"
   ]
  },
  {
   "cell_type": "code",
   "execution_count": 17,
   "id": "21ba0698",
   "metadata": {},
   "outputs": [
    {
     "name": "stdout",
     "output_type": "stream",
     "text": [
      "[[ 1  2  3  4  5]\n",
      " [ 6  7  8  9 10]\n",
      " [11 12 13 14 15]]\n",
      "2\n",
      "60\n",
      "[[[ 1]\n",
      "  [ 2]\n",
      "  [ 3]\n",
      "  [ 4]\n",
      "  [ 5]]\n",
      "\n",
      " [[ 6]\n",
      "  [ 7]\n",
      "  [ 8]\n",
      "  [ 9]\n",
      "  [10]]\n",
      "\n",
      " [[11]\n",
      "  [12]\n",
      "  [13]\n",
      "  [14]\n",
      "  [15]]]\n",
      "3\n",
      "60\n"
     ]
    }
   ],
   "source": [
    "#reshaping an array\n",
    "x=a.reshape((3,5))\n",
    "print(x)\n",
    "print(x.ndim)\n",
    "print(x.nbytes)\n",
    "y=a.reshape((3,5,1))\n",
    "print(y)\n",
    "print(y.ndim)\n",
    "print(y.nbytes)"
   ]
  },
  {
   "cell_type": "markdown",
   "id": "9c90d629",
   "metadata": {},
   "source": [
    "#Difference Between Flatten and Ravel Functions\n",
    "Flatten always produces a one-dimensional copy, whereas ravel attempts to provide a one-dimensional view of the original matrix. Be cautious since altering the returned matrix from ravel may make changes to the original matrix.\n",
    "Modifying the content of the array created by flatten has no effect on the original array.\n",
    "Because no memory is duplicated, ravel is frequently quicker, but you must be extra cautious when altering the matrix it returns.\n",
    "Because flatten is a function of an ndarray object, it can only be used with legitimate numpy arrays. In contrast, ravel() is a library-level function that may be called on any object that can be appropriately parsed."
   ]
  },
  {
   "cell_type": "code",
   "execution_count": 18,
   "id": "a5fb90d9",
   "metadata": {},
   "outputs": [
    {
     "name": "stdout",
     "output_type": "stream",
     "text": [
      "[ 1  2  3  4  5  6  7  8  9 10 11 12 13 14 15]\n",
      "[  1 100   3   4   5   6   7   8   9  10  11  12  13  14  15]\n",
      "[[[  1]\n",
      "  [100]\n",
      "  [  3]\n",
      "  [  4]\n",
      "  [  5]]\n",
      "\n",
      " [[  6]\n",
      "  [  7]\n",
      "  [  8]\n",
      "  [  9]\n",
      "  [ 10]]\n",
      "\n",
      " [[ 11]\n",
      "  [ 12]\n",
      "  [ 13]\n",
      "  [ 14]\n",
      "  [ 15]]]\n",
      "[  1 100   3   4   5   6   7   8   9  10  11  12  13  14  15]\n",
      "[111 100   3   4   5   6   7   8   9  10  11  12  13  14  15]\n",
      "[[[  1]\n",
      "  [100]\n",
      "  [  3]\n",
      "  [  4]\n",
      "  [  5]]\n",
      "\n",
      " [[  6]\n",
      "  [  7]\n",
      "  [  8]\n",
      "  [  9]\n",
      "  [ 10]]\n",
      "\n",
      " [[ 11]\n",
      "  [ 12]\n",
      "  [ 13]\n",
      "  [ 14]\n",
      "  [ 15]]]\n"
     ]
    }
   ],
   "source": [
    "# both creates 1 dimensional array from any multidim\n",
    "a=y.ravel()# creates a view of original array\n",
    "print(a)\n",
    "a[1]=100\n",
    "print(a)\n",
    "print(y)\n",
    "b=y.flatten() # creates a copy of original array\n",
    "print(b)\n",
    "b[0]=111\n",
    "print(b)\n",
    "print(y)"
   ]
  },
  {
   "cell_type": "code",
   "execution_count": 18,
   "id": "1ffb38e8",
   "metadata": {},
   "outputs": [
    {
     "name": "stdout",
     "output_type": "stream",
     "text": [
      "[ 1  2  3  4  5  6  7  8  9 10 11 12 13 14 15]\n",
      "[[[ 1]\n",
      "  [ 2]\n",
      "  [ 3]\n",
      "  [ 4]\n",
      "  [ 5]]\n",
      "\n",
      " [[ 6]\n",
      "  [ 7]\n",
      "  [ 8]\n",
      "  [ 9]\n",
      "  [10]]\n",
      "\n",
      " [[11]\n",
      "  [12]\n",
      "  [13]\n",
      "  [14]\n",
      "  [15]]]\n",
      "[ 1  2  3  4  5  6  7  8  9 10 11 12 13 14 15]\n",
      "[[[ 1]\n",
      "  [ 2]\n",
      "  [ 3]\n",
      "  [ 4]\n",
      "  [ 5]]\n",
      "\n",
      " [[ 6]\n",
      "  [ 7]\n",
      "  [ 8]\n",
      "  [ 9]\n",
      "  [10]]\n",
      "\n",
      " [[11]\n",
      "  [12]\n",
      "  [13]\n",
      "  [14]\n",
      "  [15]]]\n"
     ]
    }
   ],
   "source": [
    "print(y.ravel())\n",
    "print(y)\n",
    "print(y.flatten())#Therefore, modifications made to the flattened array will not affect the original array. \n",
    "print(y)"
   ]
  },
  {
   "cell_type": "code",
   "execution_count": 22,
   "id": "f4c958f7",
   "metadata": {},
   "outputs": [
    {
     "name": "stdout",
     "output_type": "stream",
     "text": [
      "[[[ 1]\n",
      "  [ 2]\n",
      "  [ 3]\n",
      "  [ 4]\n",
      "  [ 5]]\n",
      "\n",
      " [[ 1]\n",
      "  [ 2]\n",
      "  [ 3]\n",
      "  [ 4]\n",
      "  [ 5]]\n",
      "\n",
      " [[ 6]\n",
      "  [ 7]\n",
      "  [ 8]\n",
      "  [ 9]\n",
      "  [10]]\n",
      "\n",
      " [[ 6]\n",
      "  [ 7]\n",
      "  [ 8]\n",
      "  [ 9]\n",
      "  [10]]\n",
      "\n",
      " [[11]\n",
      "  [12]\n",
      "  [13]\n",
      "  [14]\n",
      "  [15]]\n",
      "\n",
      " [[11]\n",
      "  [12]\n",
      "  [13]\n",
      "  [14]\n",
      "  [15]]]\n",
      "[[[ 1  1]\n",
      "  [ 2  2]\n",
      "  [ 3  3]\n",
      "  [ 4  4]\n",
      "  [ 5  5]]\n",
      "\n",
      " [[ 6  6]\n",
      "  [ 7  7]\n",
      "  [ 8  8]\n",
      "  [ 9  9]\n",
      "  [10 10]]\n",
      "\n",
      " [[11 11]\n",
      "  [12 12]\n",
      "  [13 13]\n",
      "  [14 14]\n",
      "  [15 15]]]\n"
     ]
    }
   ],
   "source": [
    "# repeat: it repeats the element of an existing array to form new arrays\n",
    "r=np.repeat(y,2,axis=0)\n",
    "print(r)#in axis 0 whole matrix repeat 2 times\n",
    "#but in axis 1 every element of matrix repeat\n",
    "r1=np.repeat(y,2,axis=2)\n",
    "print(r1)"
   ]
  },
  {
   "cell_type": "code",
   "execution_count": 20,
   "id": "0fd011f6",
   "metadata": {},
   "outputs": [
    {
     "name": "stdout",
     "output_type": "stream",
     "text": [
      "[[1. 0. 0.]\n",
      " [0. 1. 0.]\n",
      " [0. 0. 1.]]\n",
      "[[-13200  18035    469]\n",
      " [     0      0      0]\n",
      " [     0      0      2]]\n"
     ]
    }
   ],
   "source": [
    "#creating empty matrix\n",
    "e=np.empty((3,3))\n",
    "print(e)\n",
    "e=np.empty((3,3),dtype='int16')\n",
    "print(e)"
   ]
  },
  {
   "cell_type": "code",
   "execution_count": 8,
   "id": "cf23e14d",
   "metadata": {},
   "outputs": [
    {
     "name": "stdout",
     "output_type": "stream",
     "text": [
      "[[0.06535648 0.89687002 0.80923398 0.34680191 0.26817246]\n",
      " [0.73713131 0.84596181 0.90929987 0.9620632  0.08762314]\n",
      " [0.67939729 0.19832809 0.53345296 0.43251821 0.90170799]\n",
      " [0.30822614 0.40273097 0.57053556 0.62024748 0.65949129]]\n",
      "<class 'numpy.ndarray'>\n",
      "[[-3 -3  5]\n",
      " [11  0  5]\n",
      " [ 0  3 -1]]\n",
      "[-5 -5  8]\n"
     ]
    }
   ],
   "source": [
    "#random\n",
    "##random.rand() is used to create a matrics of random numbers between 0 and 1.\n",
    "d=np.random.rand(4,5)\n",
    "print(d)\n",
    "print(type(d))\n",
    "b=np.random.randint(-5,15,size=(3,3))\n",
    "print(b)\n",
    "c=np.random.randint(-5,15,size=(3))\n",
    "print(c)"
   ]
  },
  {
   "cell_type": "code",
   "execution_count": 9,
   "id": "53b6757b",
   "metadata": {},
   "outputs": [
    {
     "name": "stdout",
     "output_type": "stream",
     "text": [
      "[10 20 30]\n",
      "[10 50 30]\n",
      "[10 50 30]\n"
     ]
    }
   ],
   "source": [
    "#view method: it will generate an array same as existing one\n",
    "# if we change data in view then change will reflect in the original one as well.\n",
    "a=np.array([10,20,30])\n",
    "print(a)\n",
    "b=a.view()\n",
    "b[1]=50\n",
    "print(b)\n",
    "print(a)"
   ]
  },
  {
   "cell_type": "code",
   "execution_count": 10,
   "id": "0899afa2",
   "metadata": {},
   "outputs": [
    {
     "name": "stdout",
     "output_type": "stream",
     "text": [
      "[10 11 12 13 14 15 16 17 18 19 20 21 22]\n",
      "[10 11 12 13 14 15 16 17 18 19 20 21 22]\n",
      "[10 11 55 13 14 15 16 17 18 19 20 21 22]\n",
      "[10 11 12 13 14 15 16 17 18 19 20 21 22]\n"
     ]
    }
   ],
   "source": [
    "x=np.arange(10,23)\n",
    "print(x)\n",
    "c=x.copy()\n",
    "print(c)\n",
    "c[2]=55\n",
    "print(c)\n",
    "print(x)"
   ]
  },
  {
   "cell_type": "code",
   "execution_count": 23,
   "id": "d1b7cad9",
   "metadata": {},
   "outputs": [
    {
     "name": "stdout",
     "output_type": "stream",
     "text": [
      "[2 3 4 5 6 7]\n",
      "[1 0 1 0 1 0]\n",
      "[1. 2. 3. 4. 5. 6.]\n",
      "[ 1  4  9 16 25 36]\n"
     ]
    }
   ],
   "source": [
    "a=np.arange(1,7)\n",
    "print(a+1)\n",
    "print(a%2)\n",
    "print(a/1)\n",
    "print(a**2)"
   ]
  },
  {
   "cell_type": "code",
   "execution_count": 25,
   "id": "a03bea15",
   "metadata": {},
   "outputs": [
    {
     "data": {
      "text/plain": [
       "array([[1, 2, 3],\n",
       "       [4, 5, 6]])"
      ]
     },
     "execution_count": 25,
     "metadata": {},
     "output_type": "execute_result"
    }
   ],
   "source": [
    "b=a.reshape(2,3)\n",
    "b"
   ]
  },
  {
   "cell_type": "code",
   "execution_count": 26,
   "id": "88c34b6f",
   "metadata": {},
   "outputs": [
    {
     "name": "stdout",
     "output_type": "stream",
     "text": [
      "[[2 3 4]\n",
      " [5 6 7]]\n",
      "[[1 0 1]\n",
      " [0 1 0]]\n",
      "[[1. 2. 3.]\n",
      " [4. 5. 6.]]\n",
      "[[ 1  4  9]\n",
      " [16 25 36]]\n"
     ]
    }
   ],
   "source": [
    "print(b+1)\n",
    "print(b%2)\n",
    "print(b/1)\n",
    "print(b**2)"
   ]
  },
  {
   "cell_type": "code",
   "execution_count": 27,
   "id": "1e161086",
   "metadata": {},
   "outputs": [
    {
     "data": {
      "text/plain": [
       "array([ 1.55740772, -2.18503986, -0.14254654,  1.15782128, -3.38051501,\n",
       "       -0.29100619])"
      ]
     },
     "execution_count": 27,
     "metadata": {},
     "output_type": "execute_result"
    }
   ],
   "source": [
    "np.tan(a)"
   ]
  },
  {
   "cell_type": "code",
   "execution_count": 28,
   "id": "03322754",
   "metadata": {},
   "outputs": [
    {
     "name": "stdout",
     "output_type": "stream",
     "text": [
      "[[2 0 3]\n",
      " [4 1 8]\n",
      " [7 5 9]]\n",
      "[[10 20 30]\n",
      " [50 40 70]\n",
      " [90 60 80]]\n"
     ]
    }
   ],
   "source": [
    "A=np.array([[2,0,3],[4,1,8],[7,5,9]])\n",
    "print(A)\n",
    "B=np.array([[10,20,30],[50,40,70],[90,60,80]])\n",
    "print(B)"
   ]
  },
  {
   "cell_type": "code",
   "execution_count": 29,
   "id": "bb872373",
   "metadata": {},
   "outputs": [
    {
     "data": {
      "text/plain": [
       "array([[2, 4, 7],\n",
       "       [0, 1, 5],\n",
       "       [3, 8, 9]])"
      ]
     },
     "execution_count": 29,
     "metadata": {},
     "output_type": "execute_result"
    }
   ],
   "source": [
    "A.transpose()"
   ]
  },
  {
   "cell_type": "code",
   "execution_count": 38,
   "id": "f0925c48",
   "metadata": {},
   "outputs": [
    {
     "name": "stdout",
     "output_type": "stream",
     "text": [
      "[[10 50 90]\n",
      " [20 40 60]\n",
      " [30 70 80]]\n",
      "130\n",
      "[[12 20 33]\n",
      " [54 41 78]\n",
      " [97 65 89]]\n",
      "[[ 290  220  300]\n",
      " [ 810  600  830]\n",
      " [1130  880 1280]]\n",
      "[[ 290  220  300]\n",
      " [ 810  600  830]\n",
      " [1130  880 1280]]\n",
      "[[ 290  220  300]\n",
      " [ 810  600  830]\n",
      " [1130  880 1280]]\n"
     ]
    }
   ],
   "source": [
    "print(B.T)\n",
    "print(np.trace(B))\n",
    "print(A+B)\n",
    "#for multiplication of two matrices\n",
    "print(A.dot(B))\n",
    "print(np.matmul(A,B))\n",
    "print(A@B)"
   ]
  },
  {
   "cell_type": "code",
   "execution_count": 40,
   "id": "f97b6959",
   "metadata": {},
   "outputs": [
    {
     "name": "stdout",
     "output_type": "stream",
     "text": [
      "-22.99999999999999\n",
      "[[ 1.34782609 -0.65217391  0.13043478]\n",
      " [-0.86956522  0.13043478  0.17391304]\n",
      " [-0.56521739  0.43478261 -0.08695652]]\n"
     ]
    }
   ],
   "source": [
    "#Determent of matrics\n",
    "print(np.linalg.det(A))\n",
    "#inverse\n",
    "print(np.linalg.inv(A))\n"
   ]
  },
  {
   "cell_type": "code",
   "execution_count": null,
   "id": "d193dbf9",
   "metadata": {},
   "outputs": [],
   "source": []
  },
  {
   "cell_type": "code",
   "execution_count": 33,
   "id": "1efddcea",
   "metadata": {},
   "outputs": [
    {
     "name": "stdout",
     "output_type": "stream",
     "text": [
      "[[ 0  1  2  3]\n",
      " [ 4  5  6  7]\n",
      " [ 8  9 10 11]]\n",
      "66\n",
      "[12 15 18 21]\n",
      "[ 6 22 38]\n",
      "[ 0  1  3  6 10 15 21 28 36 45 55 66]\n",
      "[[ 0  1  2  3]\n",
      " [ 4  6  8 10]\n",
      " [12 15 18 21]]\n",
      "3.452052529534663\n",
      "[1.11803399 1.11803399 1.11803399]\n",
      "[4. 5. 6. 7.]\n"
     ]
    }
   ],
   "source": [
    "x=np.arange(12).reshape(3,4)\n",
    "print(x)\n",
    "print(x.sum())\n",
    "print(x.sum(axis=0))#for colwise\n",
    "print(x.sum(axis=1))#for rowwise\n",
    "print(x.cumsum())#cumulative sum\n",
    "print(x.cumsum(axis=0))\n",
    "print(x.std())#standard daviation\n",
    "print(x.std(axis=1))\n",
    "print(x.mean(axis=0))#mean"
   ]
  },
  {
   "cell_type": "code",
   "execution_count": 34,
   "id": "672ed4fd",
   "metadata": {},
   "outputs": [
    {
     "data": {
      "text/plain": [
       "array([[False, False, False, False],\n",
       "       [False, False,  True,  True],\n",
       "       [ True,  True,  True,  True]])"
      ]
     },
     "execution_count": 34,
     "metadata": {},
     "output_type": "execute_result"
    }
   ],
   "source": [
    "# it creates boolean array\n",
    "b=x>5\n",
    "b"
   ]
  },
  {
   "cell_type": "code",
   "execution_count": 35,
   "id": "54131f47",
   "metadata": {},
   "outputs": [
    {
     "name": "stdout",
     "output_type": "stream",
     "text": [
      "[ 6  7  8  9 10 11]\n"
     ]
    }
   ],
   "source": [
    "print(x[b])"
   ]
  },
  {
   "cell_type": "code",
   "execution_count": 36,
   "id": "ebd8f1e1",
   "metadata": {},
   "outputs": [
    {
     "name": "stdout",
     "output_type": "stream",
     "text": [
      "[[ 0  1  2  3]\n",
      " [ 4  5 89 89]\n",
      " [89 89 89 89]]\n"
     ]
    }
   ],
   "source": [
    "x[b]=89\n",
    "print(x)"
   ]
  },
  {
   "cell_type": "code",
   "execution_count": 38,
   "id": "9c0f764a",
   "metadata": {},
   "outputs": [
    {
     "name": "stdout",
     "output_type": "stream",
     "text": [
      "(array([0, 0, 0, 0], dtype=int64), array([0, 1, 2, 3], dtype=int64))\n"
     ]
    }
   ],
   "source": [
    "print(np.where(x<4))\n",
    "#provides index for which the condition is true\n",
    "#it returns tuple corresponding to the index"
   ]
  },
  {
   "cell_type": "code",
   "execution_count": 41,
   "id": "f33a35e5",
   "metadata": {},
   "outputs": [
    {
     "name": "stdout",
     "output_type": "stream",
     "text": [
      "[2 3 4 5 6 7]\n",
      "[ 2  3 12 12 12 12]\n"
     ]
    }
   ],
   "source": [
    "y=np.arange(2,8)\n",
    "print(y)\n",
    "z=np.where(y<4,y,12)#values are replaced by 25 for which condition is false\n",
    "print(z)"
   ]
  },
  {
   "cell_type": "code",
   "execution_count": 54,
   "id": "9ae0f1f3",
   "metadata": {},
   "outputs": [
    {
     "name": "stdout",
     "output_type": "stream",
     "text": [
      "0 1 2 3 \n",
      "4 5 6 7 \n",
      "8 9 10 11 \n"
     ]
    }
   ],
   "source": [
    "for i in x:\n",
    "    for j in i:\n",
    "        print(j,end=' ')\n",
    "    print()"
   ]
  },
  {
   "cell_type": "code",
   "execution_count": 55,
   "id": "04c01b79",
   "metadata": {},
   "outputs": [
    {
     "name": "stdout",
     "output_type": "stream",
     "text": [
      "0\n",
      "1\n",
      "2\n",
      "3\n",
      "4\n",
      "5\n",
      "6\n",
      "7\n",
      "8\n",
      "9\n",
      "10\n",
      "11\n"
     ]
    }
   ],
   "source": [
    "for item in np.nditer(x):\n",
    "    print(item)"
   ]
  },
  {
   "cell_type": "code",
   "execution_count": 58,
   "id": "ec7e2ee7",
   "metadata": {},
   "outputs": [
    {
     "name": "stdout",
     "output_type": "stream",
     "text": [
      "0\n",
      "4\n",
      "8\n",
      "1\n",
      "5\n",
      "9\n",
      "2\n",
      "6\n",
      "10\n",
      "3\n",
      "7\n",
      "11\n"
     ]
    }
   ],
   "source": [
    "for item in np.nditer(x,order='F'):#for col wise\n",
    "    print(item)"
   ]
  },
  {
   "cell_type": "code",
   "execution_count": 59,
   "id": "c3b15350",
   "metadata": {},
   "outputs": [
    {
     "name": "stdout",
     "output_type": "stream",
     "text": [
      "0\n",
      "1\n",
      "2\n",
      "3\n",
      "4\n",
      "5\n",
      "6\n",
      "7\n",
      "8\n",
      "9\n",
      "10\n",
      "11\n"
     ]
    }
   ],
   "source": [
    "for item in np.nditer(x,order='C'):#for row wise\n",
    "    print(item)"
   ]
  },
  {
   "cell_type": "code",
   "execution_count": 62,
   "id": "4f884c82",
   "metadata": {},
   "outputs": [
    {
     "data": {
      "text/plain": [
       "array([[12, 13, 14, 15],\n",
       "       [16, 17, 18, 19],\n",
       "       [20, 21, 22, 23]])"
      ]
     },
     "execution_count": 62,
     "metadata": {},
     "output_type": "execute_result"
    }
   ],
   "source": [
    "y=np.arange(12,24).reshape(3,4)\n",
    "y"
   ]
  },
  {
   "cell_type": "code",
   "execution_count": 64,
   "id": "dd12d3d6",
   "metadata": {},
   "outputs": [
    {
     "name": "stdout",
     "output_type": "stream",
     "text": [
      "0 12\n",
      "1 13\n",
      "2 14\n",
      "3 15\n",
      "4 16\n",
      "5 17\n",
      "6 18\n",
      "7 19\n",
      "8 20\n",
      "9 21\n",
      "10 22\n",
      "11 23\n"
     ]
    }
   ],
   "source": [
    "for i,j in np.nditer([x,y]):\n",
    "    print(i,j)"
   ]
  },
  {
   "cell_type": "code",
   "execution_count": 68,
   "id": "68918734",
   "metadata": {},
   "outputs": [
    {
     "data": {
      "text/plain": [
       "[array([[0, 1, 2, 3]]), array([[4, 5, 6, 7]]), array([[ 8,  9, 10, 11]])]"
      ]
     },
     "execution_count": 68,
     "metadata": {},
     "output_type": "execute_result"
    }
   ],
   "source": [
    "np.split(x,3)"
   ]
  },
  {
   "cell_type": "code",
   "execution_count": 72,
   "id": "30b48cb5",
   "metadata": {},
   "outputs": [
    {
     "data": {
      "text/plain": [
       "[array([[0, 1, 2, 3]]), array([[4, 5, 6, 7]]), array([[ 8,  9, 10, 11]])]"
      ]
     },
     "execution_count": 72,
     "metadata": {},
     "output_type": "execute_result"
    }
   ],
   "source": [
    "np.split(x,[1,2])"
   ]
  },
  {
   "cell_type": "code",
   "execution_count": 42,
   "id": "7d07d580",
   "metadata": {},
   "outputs": [
    {
     "name": "stdout",
     "output_type": "stream",
     "text": [
      "0\n",
      "1\n",
      "2\n",
      "3\n",
      "4\n",
      "5\n",
      "89\n",
      "89\n",
      "89\n",
      "89\n",
      "89\n",
      "89\n"
     ]
    }
   ],
   "source": [
    "for i in x.flat:\n",
    "    print(i)"
   ]
  },
  {
   "cell_type": "code",
   "execution_count": null,
   "id": "4c130878",
   "metadata": {},
   "outputs": [],
   "source": [
    "#reading and writing from/in files\n"
   ]
  },
  {
   "cell_type": "code",
   "execution_count": null,
   "id": "c00a5277",
   "metadata": {},
   "outputs": [],
   "source": []
  },
  {
   "cell_type": "raw",
   "id": "6b544d57",
   "metadata": {},
   "source": []
  }
 ],
 "metadata": {
  "kernelspec": {
   "display_name": "Python 3 (ipykernel)",
   "language": "python",
   "name": "python3"
  },
  "language_info": {
   "codemirror_mode": {
    "name": "ipython",
    "version": 3
   },
   "file_extension": ".py",
   "mimetype": "text/x-python",
   "name": "python",
   "nbconvert_exporter": "python",
   "pygments_lexer": "ipython3",
   "version": "3.11.1"
  }
 },
 "nbformat": 4,
 "nbformat_minor": 5
}
