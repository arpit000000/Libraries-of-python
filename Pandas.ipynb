{
 "cells": [
  {
   "cell_type": "code",
   "execution_count": 1,
   "id": "1dd82e94",
   "metadata": {},
   "outputs": [],
   "source": [
    "import pandas as pd\n",
    "import numpy as np"
   ]
  },
  {
   "cell_type": "code",
   "execution_count": 11,
   "id": "42f0634b",
   "metadata": {},
   "outputs": [
    {
     "data": {
      "text/plain": [
       "0     10\n",
       "1      a\n",
       "2    4.6\n",
       "dtype: object"
      ]
     },
     "execution_count": 11,
     "metadata": {},
     "output_type": "execute_result"
    }
   ],
   "source": [
    "a=[10,'a',4.6]\n",
    "mycol=pd.Series(a)\n",
    "mycol"
   ]
  },
  {
   "cell_type": "code",
   "execution_count": 12,
   "id": "d37471e2",
   "metadata": {},
   "outputs": [
    {
     "name": "stdout",
     "output_type": "stream",
     "text": [
      "a    15\n",
      "b    16\n",
      "c    17\n",
      "dtype: int64\n",
      "16\n",
      "16\n"
     ]
    }
   ],
   "source": [
    "b=[15,16,17]\n",
    "s=pd.Series(b,index=['a','b','c'])\n",
    "print(s)\n",
    "print(s['b'])\n",
    "print(s[1])"
   ]
  },
  {
   "cell_type": "code",
   "execution_count": 13,
   "id": "3a4fb6cf",
   "metadata": {},
   "outputs": [
    {
     "data": {
      "text/plain": [
       "10    5\n",
       "20    6\n",
       "30    7\n",
       "40    8\n",
       "dtype: int32"
      ]
     },
     "execution_count": 13,
     "metadata": {},
     "output_type": "execute_result"
    }
   ],
   "source": [
    "import numpy as np\n",
    "data=np.array([5,6,7,8])\n",
    "ds=pd.Series(data,index=[10,20,30,40])\n",
    "ds"
   ]
  },
  {
   "cell_type": "code",
   "execution_count": 2,
   "id": "e679220c",
   "metadata": {},
   "outputs": [
    {
     "name": "stdout",
     "output_type": "stream",
     "text": [
      "1    (a, A)\n",
      "2         b\n",
      "3         c\n",
      "4         d\n",
      "dtype: object\n",
      "2      b\n",
      "3      c\n",
      "4      d\n",
      "5    NaN\n",
      "dtype: object\n",
      "1    (a, A)\n",
      "2         b\n",
      "3         c\n",
      "4         d\n",
      "5       NaN\n",
      "1    (a, A)\n",
      "2         b\n",
      "3         c\n",
      "4         d\n",
      "dtype: object\n"
     ]
    }
   ],
   "source": [
    "d={1:(\"a\",'A'),2:\"b\",3:\"c\",4:\"d\"}\n",
    "ds=pd.Series(d)\n",
    "ds1=pd.Series(d,index=[2,3,4,5])\n",
    "print(ds)\n",
    "print(ds1)\n",
    "ds2=pd.Series(d,index=[1,2,3,4,5,1,2,3,4])\n",
    "print(ds2)"
   ]
  },
  {
   "cell_type": "code",
   "execution_count": 15,
   "id": "595ee4b3",
   "metadata": {},
   "outputs": [
    {
     "data": {
      "text/plain": [
       "1    5\n",
       "2    5\n",
       "3    5\n",
       "4    5\n",
       "5    5\n",
       "dtype: int64"
      ]
     },
     "execution_count": 15,
     "metadata": {},
     "output_type": "execute_result"
    }
   ],
   "source": [
    "ds=pd.Series(5,index=(1,2,3,4,5))\n",
    "ds"
   ]
  },
  {
   "cell_type": "code",
   "execution_count": 16,
   "id": "af0b7bf4",
   "metadata": {},
   "outputs": [
    {
     "name": "stdout",
     "output_type": "stream",
     "text": [
      "0    1\n",
      "1    1\n",
      "2    1\n",
      "3    1\n",
      "4    1\n",
      "dtype: int32\n",
      "0     1\n",
      "1     2\n",
      "2     3\n",
      "3     4\n",
      "4     5\n",
      "5     6\n",
      "6     7\n",
      "7     8\n",
      "8     9\n",
      "9    10\n",
      "dtype: int32\n"
     ]
    }
   ],
   "source": [
    "ds=pd.Series(np.ones(5),dtype=int)\n",
    "print(ds)\n",
    "ds1=pd.Series(np.arange(1,11))\n",
    "print(ds1)"
   ]
  },
  {
   "cell_type": "code",
   "execution_count": 17,
   "id": "fccaaae9",
   "metadata": {},
   "outputs": [
    {
     "data": {
      "text/html": [
       "<div>\n",
       "<style scoped>\n",
       "    .dataframe tbody tr th:only-of-type {\n",
       "        vertical-align: middle;\n",
       "    }\n",
       "\n",
       "    .dataframe tbody tr th {\n",
       "        vertical-align: top;\n",
       "    }\n",
       "\n",
       "    .dataframe thead th {\n",
       "        text-align: right;\n",
       "    }\n",
       "</style>\n",
       "<table border=\"1\" class=\"dataframe\">\n",
       "  <thead>\n",
       "    <tr style=\"text-align: right;\">\n",
       "      <th></th>\n",
       "      <th>name</th>\n",
       "      <th>Rollno.</th>\n",
       "      <th>Marks</th>\n",
       "    </tr>\n",
       "  </thead>\n",
       "  <tbody>\n",
       "    <tr>\n",
       "      <th>0</th>\n",
       "      <td>arpit</td>\n",
       "      <td>20</td>\n",
       "      <td>100</td>\n",
       "    </tr>\n",
       "    <tr>\n",
       "      <th>1</th>\n",
       "      <td>aryan</td>\n",
       "      <td>10</td>\n",
       "      <td>100</td>\n",
       "    </tr>\n",
       "    <tr>\n",
       "      <th>2</th>\n",
       "      <td>akshat</td>\n",
       "      <td>17</td>\n",
       "      <td>100</td>\n",
       "    </tr>\n",
       "  </tbody>\n",
       "</table>\n",
       "</div>"
      ],
      "text/plain": [
       "     name  Rollno.  Marks\n",
       "0   arpit       20    100\n",
       "1   aryan       10    100\n",
       "2  akshat       17    100"
      ]
     },
     "execution_count": 17,
     "metadata": {},
     "output_type": "execute_result"
    }
   ],
   "source": [
    "data={\"name\":[\"arpit\",'aryan','akshat'],'Rollno.':[20,10,17],'Marks':[100,100,100]}\n",
    "df=pd.DataFrame(data)\n",
    "df"
   ]
  },
  {
   "cell_type": "code",
   "execution_count": 18,
   "id": "3fe0af4c",
   "metadata": {},
   "outputs": [
    {
     "data": {
      "text/html": [
       "<div>\n",
       "<style scoped>\n",
       "    .dataframe tbody tr th:only-of-type {\n",
       "        vertical-align: middle;\n",
       "    }\n",
       "\n",
       "    .dataframe tbody tr th {\n",
       "        vertical-align: top;\n",
       "    }\n",
       "\n",
       "    .dataframe thead th {\n",
       "        text-align: right;\n",
       "    }\n",
       "</style>\n",
       "<table border=\"1\" class=\"dataframe\">\n",
       "  <thead>\n",
       "    <tr style=\"text-align: right;\">\n",
       "      <th></th>\n",
       "      <th>name</th>\n",
       "      <th>Rollno.</th>\n",
       "      <th>Marks</th>\n",
       "    </tr>\n",
       "  </thead>\n",
       "  <tbody>\n",
       "    <tr>\n",
       "      <th>st1</th>\n",
       "      <td>arpit</td>\n",
       "      <td>20</td>\n",
       "      <td>100</td>\n",
       "    </tr>\n",
       "    <tr>\n",
       "      <th>st2</th>\n",
       "      <td>aryan</td>\n",
       "      <td>10</td>\n",
       "      <td>100</td>\n",
       "    </tr>\n",
       "    <tr>\n",
       "      <th>st3</th>\n",
       "      <td>akshat</td>\n",
       "      <td>17</td>\n",
       "      <td>100</td>\n",
       "    </tr>\n",
       "  </tbody>\n",
       "</table>\n",
       "</div>"
      ],
      "text/plain": [
       "       name  Rollno.  Marks\n",
       "st1   arpit       20    100\n",
       "st2   aryan       10    100\n",
       "st3  akshat       17    100"
      ]
     },
     "execution_count": 18,
     "metadata": {},
     "output_type": "execute_result"
    }
   ],
   "source": [
    "data={\"name\":[\"arpit\",'aryan','akshat'],'Rollno.':[20,10,17],'Marks':[100,100,100]}\n",
    "df=pd.DataFrame(data,index=['st1','st2','st3'])\n",
    "df"
   ]
  },
  {
   "cell_type": "code",
   "execution_count": 19,
   "id": "82b14709",
   "metadata": {},
   "outputs": [
    {
     "data": {
      "text/plain": [
       "name       arpit\n",
       "Rollno.       20\n",
       "Marks        100\n",
       "Name: st1, dtype: object"
      ]
     },
     "execution_count": 19,
     "metadata": {},
     "output_type": "execute_result"
    }
   ],
   "source": [
    "df.loc['st1']#perticular row access"
   ]
  },
  {
   "cell_type": "code",
   "execution_count": 20,
   "id": "73675401",
   "metadata": {},
   "outputs": [
    {
     "data": {
      "text/plain": [
       "st1     arpit\n",
       "st2     aryan\n",
       "st3    akshat\n",
       "Name: name, dtype: object"
      ]
     },
     "execution_count": 20,
     "metadata": {},
     "output_type": "execute_result"
    }
   ],
   "source": [
    "df['name']\n",
    "#df['str1'] it get key error not allowed"
   ]
  },
  {
   "cell_type": "code",
   "execution_count": 21,
   "id": "751378e9",
   "metadata": {},
   "outputs": [
    {
     "data": {
      "text/html": [
       "<div>\n",
       "<style scoped>\n",
       "    .dataframe tbody tr th:only-of-type {\n",
       "        vertical-align: middle;\n",
       "    }\n",
       "\n",
       "    .dataframe tbody tr th {\n",
       "        vertical-align: top;\n",
       "    }\n",
       "\n",
       "    .dataframe thead th {\n",
       "        text-align: right;\n",
       "    }\n",
       "</style>\n",
       "<table border=\"1\" class=\"dataframe\">\n",
       "  <thead>\n",
       "    <tr style=\"text-align: right;\">\n",
       "      <th></th>\n",
       "      <th>name</th>\n",
       "      <th>Rollno.</th>\n",
       "      <th>Marks</th>\n",
       "    </tr>\n",
       "  </thead>\n",
       "  <tbody>\n",
       "    <tr>\n",
       "      <th>st1</th>\n",
       "      <td>arpit</td>\n",
       "      <td>20</td>\n",
       "      <td>100</td>\n",
       "    </tr>\n",
       "    <tr>\n",
       "      <th>st2</th>\n",
       "      <td>aryan</td>\n",
       "      <td>10</td>\n",
       "      <td>100</td>\n",
       "    </tr>\n",
       "  </tbody>\n",
       "</table>\n",
       "</div>"
      ],
      "text/plain": [
       "      name  Rollno.  Marks\n",
       "st1  arpit       20    100\n",
       "st2  aryan       10    100"
      ]
     },
     "execution_count": 21,
     "metadata": {},
     "output_type": "execute_result"
    }
   ],
   "source": [
    "df.loc[['st1','st2']]"
   ]
  },
  {
   "cell_type": "code",
   "execution_count": 10,
   "id": "3a6288f5",
   "metadata": {},
   "outputs": [
    {
     "data": {
      "text/html": [
       "<div>\n",
       "<style scoped>\n",
       "    .dataframe tbody tr th:only-of-type {\n",
       "        vertical-align: middle;\n",
       "    }\n",
       "\n",
       "    .dataframe tbody tr th {\n",
       "        vertical-align: top;\n",
       "    }\n",
       "\n",
       "    .dataframe thead th {\n",
       "        text-align: right;\n",
       "    }\n",
       "</style>\n",
       "<table border=\"1\" class=\"dataframe\">\n",
       "  <thead>\n",
       "    <tr style=\"text-align: right;\">\n",
       "      <th></th>\n",
       "      <th>ID1</th>\n",
       "      <th>ID2</th>\n",
       "      <th>ID3</th>\n",
       "    </tr>\n",
       "  </thead>\n",
       "  <tbody>\n",
       "    <tr>\n",
       "      <th>NAME</th>\n",
       "      <td>abc</td>\n",
       "      <td>xyz</td>\n",
       "      <td>pqr</td>\n",
       "    </tr>\n",
       "    <tr>\n",
       "      <th>ROLLNO</th>\n",
       "      <td>1</td>\n",
       "      <td>2</td>\n",
       "      <td>3</td>\n",
       "    </tr>\n",
       "    <tr>\n",
       "      <th>SEC</th>\n",
       "      <td>a</td>\n",
       "      <td>b</td>\n",
       "      <td>c</td>\n",
       "    </tr>\n",
       "  </tbody>\n",
       "</table>\n",
       "</div>"
      ],
      "text/plain": [
       "        ID1  ID2  ID3\n",
       "NAME    abc  xyz  pqr\n",
       "ROLLNO    1    2    3\n",
       "SEC       a    b    c"
      ]
     },
     "execution_count": 10,
     "metadata": {},
     "output_type": "execute_result"
    }
   ],
   "source": [
    "n=np.array([['abc','xyz','pqr'],[1,2,3],['a','b','c']])\n",
    "p=pd.DataFrame(n,columns=['ID1','ID2','ID3'],index=['NAME','ROLLNO','SEC'])\n",
    "p"
   ]
  },
  {
   "cell_type": "code",
   "execution_count": 11,
   "id": "407b6afa",
   "metadata": {},
   "outputs": [
    {
     "data": {
      "text/html": [
       "<div>\n",
       "<style scoped>\n",
       "    .dataframe tbody tr th:only-of-type {\n",
       "        vertical-align: middle;\n",
       "    }\n",
       "\n",
       "    .dataframe tbody tr th {\n",
       "        vertical-align: top;\n",
       "    }\n",
       "\n",
       "    .dataframe thead th {\n",
       "        text-align: right;\n",
       "    }\n",
       "</style>\n",
       "<table border=\"1\" class=\"dataframe\">\n",
       "  <thead>\n",
       "    <tr style=\"text-align: right;\">\n",
       "      <th></th>\n",
       "      <th>name</th>\n",
       "      <th>rollno.</th>\n",
       "      <th>sec</th>\n",
       "    </tr>\n",
       "  </thead>\n",
       "  <tbody>\n",
       "    <tr>\n",
       "      <th>1</th>\n",
       "      <td>arpit</td>\n",
       "      <td>20</td>\n",
       "      <td>a</td>\n",
       "    </tr>\n",
       "    <tr>\n",
       "      <th>2</th>\n",
       "      <td>aryan</td>\n",
       "      <td>22</td>\n",
       "      <td>b</td>\n",
       "    </tr>\n",
       "  </tbody>\n",
       "</table>\n",
       "</div>"
      ],
      "text/plain": [
       "    name rollno. sec\n",
       "1  arpit      20   a\n",
       "2  aryan      22   b"
      ]
     },
     "execution_count": 11,
     "metadata": {},
     "output_type": "execute_result"
    }
   ],
   "source": [
    "n1=np.array([['arpit',20,'a'],['aryan',22,'b']])\n",
    "p=pd.DataFrame(n1,columns=[\"name\",'rollno.','sec'],index=[1,2])\n",
    "p"
   ]
  },
  {
   "cell_type": "code",
   "execution_count": 12,
   "id": "e1b3a70c",
   "metadata": {},
   "outputs": [
    {
     "name": "stdout",
     "output_type": "stream",
     "text": [
      "{'name': array(['abc', 'xyz', 'pqr'], dtype='<U11'), 'rollno': array(['1', '2', '3'], dtype='<U11'), 'sec': array(['a', 'b', 'c'], dtype='<U11')}\n"
     ]
    },
    {
     "data": {
      "text/html": [
       "<div>\n",
       "<style scoped>\n",
       "    .dataframe tbody tr th:only-of-type {\n",
       "        vertical-align: middle;\n",
       "    }\n",
       "\n",
       "    .dataframe tbody tr th {\n",
       "        vertical-align: top;\n",
       "    }\n",
       "\n",
       "    .dataframe thead th {\n",
       "        text-align: right;\n",
       "    }\n",
       "</style>\n",
       "<table border=\"1\" class=\"dataframe\">\n",
       "  <thead>\n",
       "    <tr style=\"text-align: right;\">\n",
       "      <th></th>\n",
       "      <th>name</th>\n",
       "      <th>rollno</th>\n",
       "      <th>sec</th>\n",
       "    </tr>\n",
       "  </thead>\n",
       "  <tbody>\n",
       "    <tr>\n",
       "      <th>1</th>\n",
       "      <td>abc</td>\n",
       "      <td>1</td>\n",
       "      <td>a</td>\n",
       "    </tr>\n",
       "    <tr>\n",
       "      <th>2</th>\n",
       "      <td>xyz</td>\n",
       "      <td>2</td>\n",
       "      <td>b</td>\n",
       "    </tr>\n",
       "    <tr>\n",
       "      <th>3</th>\n",
       "      <td>pqr</td>\n",
       "      <td>3</td>\n",
       "      <td>c</td>\n",
       "    </tr>\n",
       "  </tbody>\n",
       "</table>\n",
       "</div>"
      ],
      "text/plain": [
       "  name rollno sec\n",
       "1  abc      1   a\n",
       "2  xyz      2   b\n",
       "3  pqr      3   c"
      ]
     },
     "execution_count": 12,
     "metadata": {},
     "output_type": "execute_result"
    }
   ],
   "source": [
    "d={'name':n[0],'rollno':n[1],'sec':n[2]}\n",
    "print(d)\n",
    "df=pd.DataFrame(d,index=[1,2,3])\n",
    "df"
   ]
  },
  {
   "cell_type": "code",
   "execution_count": 8,
   "id": "94776905",
   "metadata": {},
   "outputs": [],
   "source": [
    "#list of dictionary\n",
    "ld=[{}]"
   ]
  },
  {
   "cell_type": "code",
   "execution_count": 26,
   "id": "924df1f0",
   "metadata": {},
   "outputs": [
    {
     "data": {
      "text/html": [
       "<div>\n",
       "<style scoped>\n",
       "    .dataframe tbody tr th:only-of-type {\n",
       "        vertical-align: middle;\n",
       "    }\n",
       "\n",
       "    .dataframe tbody tr th {\n",
       "        vertical-align: top;\n",
       "    }\n",
       "\n",
       "    .dataframe thead th {\n",
       "        text-align: right;\n",
       "    }\n",
       "</style>\n",
       "<table border=\"1\" class=\"dataframe\">\n",
       "  <thead>\n",
       "    <tr style=\"text-align: right;\">\n",
       "      <th></th>\n",
       "      <th>NAME</th>\n",
       "      <th>ROLL_NO</th>\n",
       "      <th>MARKS</th>\n",
       "    </tr>\n",
       "  </thead>\n",
       "  <tbody>\n",
       "    <tr>\n",
       "      <th>0</th>\n",
       "      <td>ARPIT</td>\n",
       "      <td>20</td>\n",
       "      <td>100</td>\n",
       "    </tr>\n",
       "    <tr>\n",
       "      <th>1</th>\n",
       "      <td>ARPIT</td>\n",
       "      <td>21</td>\n",
       "      <td>100</td>\n",
       "    </tr>\n",
       "    <tr>\n",
       "      <th>2</th>\n",
       "      <td>ARYAN</td>\n",
       "      <td>2</td>\n",
       "      <td>100</td>\n",
       "    </tr>\n",
       "  </tbody>\n",
       "</table>\n",
       "</div>"
      ],
      "text/plain": [
       "    NAME  ROLL_NO  MARKS\n",
       "0  ARPIT       20    100\n",
       "1  ARPIT       21    100\n",
       "2  ARYAN        2    100"
      ]
     },
     "execution_count": 26,
     "metadata": {},
     "output_type": "execute_result"
    }
   ],
   "source": [
    "s1=pd.Series({'NAME':'ARPIT','ROLL_NO':20,'MARKS':100})\n",
    "s2=pd.Series({'NAME':'ARPIT','ROLL_NO':21,'MARKS':100})\n",
    "s3=pd.Series({'NAME':'ARYAN','ROLL_NO':2,'MARKS':100})\n",
    "p=pd.DataFrame([s1,s2,s3])\n",
    "p"
   ]
  },
  {
   "cell_type": "code",
   "execution_count": 27,
   "id": "c14cc7ed",
   "metadata": {},
   "outputs": [
    {
     "name": "stdout",
     "output_type": "stream",
     "text": [
      "RangeIndex(start=0, stop=3, step=1)\n",
      "[['ARPIT' 20 100]\n",
      " ['ARPIT' 21 100]\n",
      " ['ARYAN' 2 100]]\n",
      "Index(['NAME', 'ROLL_NO', 'MARKS'], dtype='object')\n",
      "0    ARPIT\n",
      "1    ARPIT\n",
      "2    ARYAN\n",
      "Name: NAME, dtype: object\n"
     ]
    },
    {
     "data": {
      "text/html": [
       "<div>\n",
       "<style scoped>\n",
       "    .dataframe tbody tr th:only-of-type {\n",
       "        vertical-align: middle;\n",
       "    }\n",
       "\n",
       "    .dataframe tbody tr th {\n",
       "        vertical-align: top;\n",
       "    }\n",
       "\n",
       "    .dataframe thead th {\n",
       "        text-align: right;\n",
       "    }\n",
       "</style>\n",
       "<table border=\"1\" class=\"dataframe\">\n",
       "  <thead>\n",
       "    <tr style=\"text-align: right;\">\n",
       "      <th></th>\n",
       "      <th>NAME</th>\n",
       "      <th>ROLL_NO</th>\n",
       "      <th>MARKS</th>\n",
       "      <th>SECTION</th>\n",
       "    </tr>\n",
       "  </thead>\n",
       "  <tbody>\n",
       "    <tr>\n",
       "      <th>0</th>\n",
       "      <td>ARPIT</td>\n",
       "      <td>20</td>\n",
       "      <td>100</td>\n",
       "      <td>A</td>\n",
       "    </tr>\n",
       "    <tr>\n",
       "      <th>1</th>\n",
       "      <td>ARPIT</td>\n",
       "      <td>21</td>\n",
       "      <td>100</td>\n",
       "      <td>B</td>\n",
       "    </tr>\n",
       "    <tr>\n",
       "      <th>2</th>\n",
       "      <td>ARYAN</td>\n",
       "      <td>2</td>\n",
       "      <td>100</td>\n",
       "      <td>C</td>\n",
       "    </tr>\n",
       "  </tbody>\n",
       "</table>\n",
       "</div>"
      ],
      "text/plain": [
       "    NAME  ROLL_NO  MARKS SECTION\n",
       "0  ARPIT       20    100       A\n",
       "1  ARPIT       21    100       B\n",
       "2  ARYAN        2    100       C"
      ]
     },
     "execution_count": 27,
     "metadata": {},
     "output_type": "execute_result"
    }
   ],
   "source": [
    "print(p.index)\n",
    "print(p.values)\n",
    "print(p.columns)\n",
    "print(p['NAME'])\n",
    "#insert operation\n",
    "p['SECTION']=['A','B','C']\n",
    "p"
   ]
  },
  {
   "cell_type": "code",
   "execution_count": 28,
   "id": "700ccab0",
   "metadata": {},
   "outputs": [
    {
     "data": {
      "text/html": [
       "<div>\n",
       "<style scoped>\n",
       "    .dataframe tbody tr th:only-of-type {\n",
       "        vertical-align: middle;\n",
       "    }\n",
       "\n",
       "    .dataframe tbody tr th {\n",
       "        vertical-align: top;\n",
       "    }\n",
       "\n",
       "    .dataframe thead th {\n",
       "        text-align: right;\n",
       "    }\n",
       "</style>\n",
       "<table border=\"1\" class=\"dataframe\">\n",
       "  <thead>\n",
       "    <tr style=\"text-align: right;\">\n",
       "      <th></th>\n",
       "      <th>NAME</th>\n",
       "      <th>Sur_Name</th>\n",
       "      <th>ROLL_NO</th>\n",
       "      <th>MARKS</th>\n",
       "      <th>SECTION</th>\n",
       "    </tr>\n",
       "  </thead>\n",
       "  <tbody>\n",
       "    <tr>\n",
       "      <th>0</th>\n",
       "      <td>ARPIT</td>\n",
       "      <td>Jadon</td>\n",
       "      <td>20</td>\n",
       "      <td>100</td>\n",
       "      <td>A</td>\n",
       "    </tr>\n",
       "    <tr>\n",
       "      <th>1</th>\n",
       "      <td>ARPIT</td>\n",
       "      <td>Yadav</td>\n",
       "      <td>21</td>\n",
       "      <td>100</td>\n",
       "      <td>B</td>\n",
       "    </tr>\n",
       "    <tr>\n",
       "      <th>2</th>\n",
       "      <td>ARYAN</td>\n",
       "      <td>Jadon</td>\n",
       "      <td>2</td>\n",
       "      <td>100</td>\n",
       "      <td>C</td>\n",
       "    </tr>\n",
       "  </tbody>\n",
       "</table>\n",
       "</div>"
      ],
      "text/plain": [
       "    NAME Sur_Name  ROLL_NO  MARKS SECTION\n",
       "0  ARPIT    Jadon       20    100       A\n",
       "1  ARPIT    Yadav       21    100       B\n",
       "2  ARYAN    Jadon        2    100       C"
      ]
     },
     "execution_count": 28,
     "metadata": {},
     "output_type": "execute_result"
    }
   ],
   "source": [
    "p.insert(1,'Sur_Name',['Jadon','Yadav','Jadon'])\n",
    "p"
   ]
  },
  {
   "cell_type": "code",
   "execution_count": 29,
   "id": "ed63862b",
   "metadata": {},
   "outputs": [
    {
     "data": {
      "text/html": [
       "<div>\n",
       "<style scoped>\n",
       "    .dataframe tbody tr th:only-of-type {\n",
       "        vertical-align: middle;\n",
       "    }\n",
       "\n",
       "    .dataframe tbody tr th {\n",
       "        vertical-align: top;\n",
       "    }\n",
       "\n",
       "    .dataframe thead th {\n",
       "        text-align: right;\n",
       "    }\n",
       "</style>\n",
       "<table border=\"1\" class=\"dataframe\">\n",
       "  <thead>\n",
       "    <tr style=\"text-align: right;\">\n",
       "      <th></th>\n",
       "      <th>NAME</th>\n",
       "      <th>Sur_Name</th>\n",
       "      <th>ROLL_NO</th>\n",
       "      <th>MARKS</th>\n",
       "    </tr>\n",
       "  </thead>\n",
       "  <tbody>\n",
       "    <tr>\n",
       "      <th>0</th>\n",
       "      <td>ARPIT</td>\n",
       "      <td>Jadon</td>\n",
       "      <td>20</td>\n",
       "      <td>100</td>\n",
       "    </tr>\n",
       "    <tr>\n",
       "      <th>1</th>\n",
       "      <td>ARPIT</td>\n",
       "      <td>Yadav</td>\n",
       "      <td>21</td>\n",
       "      <td>100</td>\n",
       "    </tr>\n",
       "    <tr>\n",
       "      <th>2</th>\n",
       "      <td>ARYAN</td>\n",
       "      <td>Jadon</td>\n",
       "      <td>2</td>\n",
       "      <td>100</td>\n",
       "    </tr>\n",
       "  </tbody>\n",
       "</table>\n",
       "</div>"
      ],
      "text/plain": [
       "    NAME Sur_Name  ROLL_NO  MARKS\n",
       "0  ARPIT    Jadon       20    100\n",
       "1  ARPIT    Yadav       21    100\n",
       "2  ARYAN    Jadon        2    100"
      ]
     },
     "execution_count": 29,
     "metadata": {},
     "output_type": "execute_result"
    }
   ],
   "source": [
    "del p['SECTION']\n",
    "p"
   ]
  },
  {
   "cell_type": "code",
   "execution_count": 30,
   "id": "fdcf0c81",
   "metadata": {},
   "outputs": [
    {
     "data": {
      "text/html": [
       "<div>\n",
       "<style scoped>\n",
       "    .dataframe tbody tr th:only-of-type {\n",
       "        vertical-align: middle;\n",
       "    }\n",
       "\n",
       "    .dataframe tbody tr th {\n",
       "        vertical-align: top;\n",
       "    }\n",
       "\n",
       "    .dataframe thead th {\n",
       "        text-align: right;\n",
       "    }\n",
       "</style>\n",
       "<table border=\"1\" class=\"dataframe\">\n",
       "  <thead>\n",
       "    <tr style=\"text-align: right;\">\n",
       "      <th></th>\n",
       "      <th>St_Name</th>\n",
       "      <th>Sur_Name</th>\n",
       "      <th>ROLL_NO</th>\n",
       "      <th>MARKS</th>\n",
       "    </tr>\n",
       "  </thead>\n",
       "  <tbody>\n",
       "    <tr>\n",
       "      <th>0</th>\n",
       "      <td>ARPIT</td>\n",
       "      <td>Jadon</td>\n",
       "      <td>20</td>\n",
       "      <td>100</td>\n",
       "    </tr>\n",
       "    <tr>\n",
       "      <th>1</th>\n",
       "      <td>ARPIT</td>\n",
       "      <td>Yadav</td>\n",
       "      <td>21</td>\n",
       "      <td>100</td>\n",
       "    </tr>\n",
       "    <tr>\n",
       "      <th>2</th>\n",
       "      <td>ARYAN</td>\n",
       "      <td>Jadon</td>\n",
       "      <td>2</td>\n",
       "      <td>100</td>\n",
       "    </tr>\n",
       "  </tbody>\n",
       "</table>\n",
       "</div>"
      ],
      "text/plain": [
       "  St_Name Sur_Name  ROLL_NO  MARKS\n",
       "0   ARPIT    Jadon       20    100\n",
       "1   ARPIT    Yadav       21    100\n",
       "2   ARYAN    Jadon        2    100"
      ]
     },
     "execution_count": 30,
     "metadata": {},
     "output_type": "execute_result"
    }
   ],
   "source": [
    "p.rename(columns={'NAME':'St_Name'})"
   ]
  },
  {
   "cell_type": "code",
   "execution_count": 22,
   "id": "84b772c8",
   "metadata": {},
   "outputs": [
    {
     "name": "stdout",
     "output_type": "stream",
     "text": [
      "          0         1         2         3         4\n",
      "0  0.686281  0.532053  0.239377  0.953911  0.738676\n",
      "1  0.773494  0.814865  0.860603  0.180259  0.860471\n",
      "2  0.019056  0.451149  0.858639  0.504881  0.961590\n",
      "3  0.012425  0.149549  0.830598  0.889651  0.161831\n",
      "4  0.662493  0.109845  0.872705  0.628695  0.073788\n",
      "           0         1         2         3         4\n",
      "0   0.686281  0.532053  0.239377  0.953911  0.738676\n",
      "1   0.773494  0.814865  0.860603  0.180259  0.860471\n",
      "2   0.019056  0.451149  0.858639  0.504881  0.961590\n",
      "3   0.012425  0.149549  0.830598  0.889651  0.161831\n",
      "4   0.662493  0.109845  0.872705  0.628695  0.073788\n",
      "5   0.689745  0.700060  0.162341  0.803696  0.230158\n",
      "6   0.997437  0.634872  0.069424  0.584816  0.291422\n",
      "7   0.334691  0.167850  0.691906  0.185790  0.852963\n",
      "8   0.015005  0.494093  0.800774  0.391523  0.315416\n",
      "9   0.557963  0.056808  0.584171  0.860262  0.589793\n",
      "10  0.746736  0.374980  0.201147  0.241845  0.010658\n",
      "11  0.361461  0.751001  0.118251  0.328881  0.702371\n",
      "12  0.898506  0.222320  0.410004  0.412012  0.294735\n",
      "13  0.861340  0.500117  0.621869  0.267005  0.467216\n",
      "14  0.273557  0.647976  0.752622  0.287174  0.570994\n",
      "15  0.889829  0.323392  0.696248  0.276632  0.450884\n",
      "16  0.286458  0.768464  0.765095  0.295817  0.114678\n",
      "17  0.528836  0.523733  0.748162  0.499145  0.622882\n",
      "18  0.097090  0.948262  0.851035  0.396278  0.390802\n",
      "19  0.612016  0.310640  0.095511  0.639522  0.386686\n",
      "20  0.895135  0.665065  0.430375  0.296891  0.254836\n",
      "21  0.927252  0.134489  0.340754  0.790008  0.729097\n",
      "22  0.577392  0.275176  0.086855  0.700028  0.609732\n",
      "23  0.967625  0.933174  0.833115  0.818601  0.125038\n",
      "24  0.984131  0.780131  0.648543  0.054628  0.864862\n",
      "25  0.687012  0.094989  0.533472  0.187228  0.947102\n",
      "26  0.171039  0.982751  0.621386  0.568944  0.495124\n",
      "27  0.650494  0.063392  0.379723  0.201896  0.028326\n",
      "28  0.272841  0.099780  0.617772  0.671374  0.846268\n",
      "29  0.144797  0.174651  0.349604  0.410575  0.627634\n",
      "30  0.346183  0.577341  0.108336  0.016791  0.108834\n",
      "31  0.602265  0.624722  0.467062  0.292621  0.396164\n",
      "32  0.908268  0.738364  0.154018  0.522539  0.283306\n",
      "33  0.554461  0.924376  0.147982  0.744473  0.915273\n",
      "34  0.499124  0.312781  0.405270  0.990712  0.942184\n",
      "35  0.626541  0.856308  0.957820  0.206506  0.188992\n",
      "36  0.745397  0.357556  0.673775  0.346117  0.388891\n",
      "37  0.898893  0.863573  0.084962  0.358182  0.615169\n",
      "38  0.662797  0.732127  0.513960  0.367067  0.375220\n",
      "39  0.353045  0.470439  0.960248  0.346299  0.522128\n",
      "40  0.820540  0.166926  0.525125  0.298235  0.046843\n",
      "41  0.262859  0.668895  0.632588  0.643154  0.132988\n",
      "42  0.290748  0.036335  0.218181  0.897247  0.961496\n",
      "43  0.645993  0.969494  0.453401  0.271714  0.710551\n",
      "44  0.740693  0.180697  0.757795  0.612241  0.562994\n",
      "45  0.539742  0.030365  0.742019  0.556042  0.549959\n",
      "46  0.661223  0.056442  0.195113  0.639135  0.443896\n",
      "47  0.984580  0.803478  0.416599  0.053039  0.125097\n",
      "48  0.088639  0.550154  0.529469  0.806118  0.734503\n",
      "49  0.071031  0.710257  0.034569  0.658304  0.168568\n"
     ]
    }
   ],
   "source": [
    "dfr=pd.DataFrame(np.random.rand(50,5))\n",
    "print(dfr.head())\n",
    "#print(dfr)#it will print first and last five rows of DF\n",
    "#print(dfr.to_string())#to_string method we can display complete DF\n",
    "print(dfr.to_string())"
   ]
  },
  {
   "cell_type": "code",
   "execution_count": 23,
   "id": "b4639308",
   "metadata": {},
   "outputs": [
    {
     "data": {
      "text/html": [
       "<div>\n",
       "<style scoped>\n",
       "    .dataframe tbody tr th:only-of-type {\n",
       "        vertical-align: middle;\n",
       "    }\n",
       "\n",
       "    .dataframe tbody tr th {\n",
       "        vertical-align: top;\n",
       "    }\n",
       "\n",
       "    .dataframe thead th {\n",
       "        text-align: right;\n",
       "    }\n",
       "</style>\n",
       "<table border=\"1\" class=\"dataframe\">\n",
       "  <thead>\n",
       "    <tr style=\"text-align: right;\">\n",
       "      <th></th>\n",
       "      <th>0</th>\n",
       "      <th>1</th>\n",
       "      <th>2</th>\n",
       "      <th>3</th>\n",
       "      <th>4</th>\n",
       "    </tr>\n",
       "  </thead>\n",
       "  <tbody>\n",
       "    <tr>\n",
       "      <th>45</th>\n",
       "      <td>0.539742</td>\n",
       "      <td>0.030365</td>\n",
       "      <td>0.742019</td>\n",
       "      <td>0.556042</td>\n",
       "      <td>0.549959</td>\n",
       "    </tr>\n",
       "    <tr>\n",
       "      <th>46</th>\n",
       "      <td>0.661223</td>\n",
       "      <td>0.056442</td>\n",
       "      <td>0.195113</td>\n",
       "      <td>0.639135</td>\n",
       "      <td>0.443896</td>\n",
       "    </tr>\n",
       "    <tr>\n",
       "      <th>47</th>\n",
       "      <td>0.984580</td>\n",
       "      <td>0.803478</td>\n",
       "      <td>0.416599</td>\n",
       "      <td>0.053039</td>\n",
       "      <td>0.125097</td>\n",
       "    </tr>\n",
       "    <tr>\n",
       "      <th>48</th>\n",
       "      <td>0.088639</td>\n",
       "      <td>0.550154</td>\n",
       "      <td>0.529469</td>\n",
       "      <td>0.806118</td>\n",
       "      <td>0.734503</td>\n",
       "    </tr>\n",
       "    <tr>\n",
       "      <th>49</th>\n",
       "      <td>0.071031</td>\n",
       "      <td>0.710257</td>\n",
       "      <td>0.034569</td>\n",
       "      <td>0.658304</td>\n",
       "      <td>0.168568</td>\n",
       "    </tr>\n",
       "  </tbody>\n",
       "</table>\n",
       "</div>"
      ],
      "text/plain": [
       "           0         1         2         3         4\n",
       "45  0.539742  0.030365  0.742019  0.556042  0.549959\n",
       "46  0.661223  0.056442  0.195113  0.639135  0.443896\n",
       "47  0.984580  0.803478  0.416599  0.053039  0.125097\n",
       "48  0.088639  0.550154  0.529469  0.806118  0.734503\n",
       "49  0.071031  0.710257  0.034569  0.658304  0.168568"
      ]
     },
     "execution_count": 23,
     "metadata": {},
     "output_type": "execute_result"
    }
   ],
   "source": [
    "dfr.tail()#it will provide last five rows"
   ]
  },
  {
   "cell_type": "code",
   "execution_count": 32,
   "id": "ce487c82",
   "metadata": {},
   "outputs": [
    {
     "data": {
      "text/plain": [
       "100"
      ]
     },
     "execution_count": 32,
     "metadata": {},
     "output_type": "execute_result"
    }
   ],
   "source": [
    "p.loc[0,'MARKS']"
   ]
  },
  {
   "cell_type": "code",
   "execution_count": 33,
   "id": "d7b75b18",
   "metadata": {},
   "outputs": [
    {
     "data": {
      "text/plain": [
       "NAME        ARPIT\n",
       "Sur_Name    Jadon\n",
       "ROLL_NO        20\n",
       "MARKS         100\n",
       "Name: 0, dtype: object"
      ]
     },
     "execution_count": 33,
     "metadata": {},
     "output_type": "execute_result"
    }
   ],
   "source": [
    "p.loc[0]"
   ]
  },
  {
   "cell_type": "code",
   "execution_count": 34,
   "id": "eb36d286",
   "metadata": {},
   "outputs": [
    {
     "data": {
      "text/html": [
       "<div>\n",
       "<style scoped>\n",
       "    .dataframe tbody tr th:only-of-type {\n",
       "        vertical-align: middle;\n",
       "    }\n",
       "\n",
       "    .dataframe tbody tr th {\n",
       "        vertical-align: top;\n",
       "    }\n",
       "\n",
       "    .dataframe thead th {\n",
       "        text-align: right;\n",
       "    }\n",
       "</style>\n",
       "<table border=\"1\" class=\"dataframe\">\n",
       "  <thead>\n",
       "    <tr style=\"text-align: right;\">\n",
       "      <th></th>\n",
       "      <th>NAME</th>\n",
       "      <th>Sur_Name</th>\n",
       "      <th>ROLL_NO</th>\n",
       "      <th>MARKS</th>\n",
       "    </tr>\n",
       "  </thead>\n",
       "  <tbody>\n",
       "    <tr>\n",
       "      <th>0</th>\n",
       "      <td>ARPIT</td>\n",
       "      <td>Jadon</td>\n",
       "      <td>20</td>\n",
       "      <td>100</td>\n",
       "    </tr>\n",
       "    <tr>\n",
       "      <th>1</th>\n",
       "      <td>ARPIT</td>\n",
       "      <td>Yadav</td>\n",
       "      <td>21</td>\n",
       "      <td>100</td>\n",
       "    </tr>\n",
       "    <tr>\n",
       "      <th>2</th>\n",
       "      <td>ARYAN</td>\n",
       "      <td>Jadon</td>\n",
       "      <td>2</td>\n",
       "      <td>100</td>\n",
       "    </tr>\n",
       "  </tbody>\n",
       "</table>\n",
       "</div>"
      ],
      "text/plain": [
       "    NAME Sur_Name  ROLL_NO  MARKS\n",
       "0  ARPIT    Jadon       20    100\n",
       "1  ARPIT    Yadav       21    100\n",
       "2  ARYAN    Jadon        2    100"
      ]
     },
     "execution_count": 34,
     "metadata": {},
     "output_type": "execute_result"
    }
   ],
   "source": [
    "p"
   ]
  },
  {
   "cell_type": "code",
   "execution_count": 35,
   "id": "9568d043",
   "metadata": {},
   "outputs": [
    {
     "name": "stdout",
     "output_type": "stream",
     "text": [
      "21\n"
     ]
    }
   ],
   "source": [
    "print(p.iloc[1,2])"
   ]
  },
  {
   "cell_type": "code",
   "execution_count": 45,
   "id": "e25b434f",
   "metadata": {},
   "outputs": [
    {
     "name": "stdout",
     "output_type": "stream",
     "text": [
      "   MARKS  ROLL_NO Sur_Name   NAME\n",
      "2    100        2    Jadon  ARYAN\n",
      "1    100       21    Yadav  ARPIT\n",
      "0    100       20    Jadon  ARPIT\n",
      "  Sur_Name  ROLL_NO\n",
      "0    Jadon       20\n",
      "1    Yadav       21\n"
     ]
    }
   ],
   "source": [
    "print(p.iloc[::-1,::-1])\n",
    "print(p.iloc[0:2,1:3])\n"
   ]
  },
  {
   "cell_type": "code",
   "execution_count": 46,
   "id": "2ac51717",
   "metadata": {},
   "outputs": [
    {
     "data": {
      "text/html": [
       "<div>\n",
       "<style scoped>\n",
       "    .dataframe tbody tr th:only-of-type {\n",
       "        vertical-align: middle;\n",
       "    }\n",
       "\n",
       "    .dataframe tbody tr th {\n",
       "        vertical-align: top;\n",
       "    }\n",
       "\n",
       "    .dataframe thead th {\n",
       "        text-align: right;\n",
       "    }\n",
       "</style>\n",
       "<table border=\"1\" class=\"dataframe\">\n",
       "  <thead>\n",
       "    <tr style=\"text-align: right;\">\n",
       "      <th></th>\n",
       "      <th>NAME</th>\n",
       "      <th>Sur_Name</th>\n",
       "      <th>ROLL_NO</th>\n",
       "      <th>MARKS</th>\n",
       "    </tr>\n",
       "  </thead>\n",
       "  <tbody>\n",
       "    <tr>\n",
       "      <th>0</th>\n",
       "      <td>ARPIT</td>\n",
       "      <td>Jadon</td>\n",
       "      <td>20</td>\n",
       "      <td>100</td>\n",
       "    </tr>\n",
       "    <tr>\n",
       "      <th>1</th>\n",
       "      <td>ARPIT</td>\n",
       "      <td>Yadav</td>\n",
       "      <td>21</td>\n",
       "      <td>100</td>\n",
       "    </tr>\n",
       "    <tr>\n",
       "      <th>2</th>\n",
       "      <td>ARYAN</td>\n",
       "      <td>Jadon</td>\n",
       "      <td>2</td>\n",
       "      <td>100</td>\n",
       "    </tr>\n",
       "  </tbody>\n",
       "</table>\n",
       "</div>"
      ],
      "text/plain": [
       "    NAME Sur_Name  ROLL_NO  MARKS\n",
       "0  ARPIT    Jadon       20    100\n",
       "1  ARPIT    Yadav       21    100\n",
       "2  ARYAN    Jadon        2    100"
      ]
     },
     "execution_count": 46,
     "metadata": {},
     "output_type": "execute_result"
    }
   ],
   "source": [
    "p"
   ]
  },
  {
   "cell_type": "code",
   "execution_count": 59,
   "id": "4d5ef20b",
   "metadata": {},
   "outputs": [],
   "source": [
    "p.to_csv(r\"C:\\\\Users\\Arpit\\Desktop\\pandas\\data1.csv\")#\"C:\\/Users\\Arpit\\Desktop\\pandas\\data1.csv\" ese bhi kar skte hai"
   ]
  },
  {
   "cell_type": "code",
   "execution_count": 60,
   "id": "e5ae9602",
   "metadata": {},
   "outputs": [
    {
     "data": {
      "text/html": [
       "<div>\n",
       "<style scoped>\n",
       "    .dataframe tbody tr th:only-of-type {\n",
       "        vertical-align: middle;\n",
       "    }\n",
       "\n",
       "    .dataframe tbody tr th {\n",
       "        vertical-align: top;\n",
       "    }\n",
       "\n",
       "    .dataframe thead th {\n",
       "        text-align: right;\n",
       "    }\n",
       "</style>\n",
       "<table border=\"1\" class=\"dataframe\">\n",
       "  <thead>\n",
       "    <tr style=\"text-align: right;\">\n",
       "      <th></th>\n",
       "      <th>Unnamed: 0</th>\n",
       "      <th>NAME</th>\n",
       "      <th>Sur_Name</th>\n",
       "      <th>ROLL_NO</th>\n",
       "      <th>MARKS</th>\n",
       "    </tr>\n",
       "  </thead>\n",
       "  <tbody>\n",
       "    <tr>\n",
       "      <th>0</th>\n",
       "      <td>0</td>\n",
       "      <td>ARPIT</td>\n",
       "      <td>Jadon</td>\n",
       "      <td>20</td>\n",
       "      <td>100</td>\n",
       "    </tr>\n",
       "    <tr>\n",
       "      <th>1</th>\n",
       "      <td>1</td>\n",
       "      <td>ARPIT</td>\n",
       "      <td>Yadav</td>\n",
       "      <td>21</td>\n",
       "      <td>100</td>\n",
       "    </tr>\n",
       "    <tr>\n",
       "      <th>2</th>\n",
       "      <td>2</td>\n",
       "      <td>ARYAN</td>\n",
       "      <td>Jadon</td>\n",
       "      <td>2</td>\n",
       "      <td>100</td>\n",
       "    </tr>\n",
       "  </tbody>\n",
       "</table>\n",
       "</div>"
      ],
      "text/plain": [
       "   Unnamed: 0   NAME Sur_Name  ROLL_NO  MARKS\n",
       "0           0  ARPIT    Jadon       20    100\n",
       "1           1  ARPIT    Yadav       21    100\n",
       "2           2  ARYAN    Jadon        2    100"
      ]
     },
     "execution_count": 60,
     "metadata": {},
     "output_type": "execute_result"
    }
   ],
   "source": [
    "p1=pd.read_csv(\"C:\\/Users\\Arpit\\Desktop\\pandas\\data1.csv\")\n",
    "p1"
   ]
  },
  {
   "cell_type": "code",
   "execution_count": null,
   "id": "d896dfcc",
   "metadata": {},
   "outputs": [],
   "source": []
  }
 ],
 "metadata": {
  "kernelspec": {
   "display_name": "Python 3 (ipykernel)",
   "language": "python",
   "name": "python3"
  },
  "language_info": {
   "codemirror_mode": {
    "name": "ipython",
    "version": 3
   },
   "file_extension": ".py",
   "mimetype": "text/x-python",
   "name": "python",
   "nbconvert_exporter": "python",
   "pygments_lexer": "ipython3",
   "version": "3.11.1"
  }
 },
 "nbformat": 4,
 "nbformat_minor": 5
}
